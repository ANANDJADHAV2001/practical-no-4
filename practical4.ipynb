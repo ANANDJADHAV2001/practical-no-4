{
  "nbformat": 4,
  "nbformat_minor": 0,
  "metadata": {
    "colab": {
      "name": "practical4.ipynb",
      "provenance": []
    },
    "kernelspec": {
      "name": "python3",
      "display_name": "Python 3"
    },
    "language_info": {
      "name": "python"
    }
  },
  "cells": [
    {
      "cell_type": "markdown",
      "source": [
        "Write a program to create, concatenate and print a string and accessing sub string feom a given string. "
      ],
      "metadata": {
        "id": "p_TIZNLOTPTP"
      }
    },
    {
      "cell_type": "code",
      "source": [
        "s1=input(\"Enter first String : \");\n",
        "s2=input(\"Enter second String : \");\n",
        "print(\"First string is : \",s1);\n",
        "print(\"Second string is : \",s2);\n",
        "print(\"concatenations of two strings :\",s1+s2);\n",
        "print(\"Substring of given string :\",s1[1:4]);"
      ],
      "metadata": {
        "colab": {
          "base_uri": "https://localhost:8080/"
        },
        "id": "PLQ6d-Bbee3V",
        "outputId": "8299c019-697b-42b8-c8d7-b2887532a0cb"
      },
      "execution_count": 16,
      "outputs": [
        {
          "output_type": "stream",
          "name": "stdout",
          "text": [
            "Enter first String : s1\n",
            "Enter second String : s2\n",
            "First string is :  s1\n",
            "Second string is :  s2\n",
            "concatenations of two strings : s1s2\n",
            "Substring of given string : 1\n"
          ]
        }
      ]
    }
  ]
}